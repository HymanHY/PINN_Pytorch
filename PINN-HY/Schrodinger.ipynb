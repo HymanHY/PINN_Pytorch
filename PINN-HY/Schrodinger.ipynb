{
 "cells": [
  {
   "cell_type": "code",
   "execution_count": 1,
   "metadata": {},
   "outputs": [],
   "source": [
    "import torch \n",
    "import torch.nn as nn"
   ]
  },
  {
   "cell_type": "code",
   "execution_count": 2,
   "metadata": {},
   "outputs": [],
   "source": [
    "class SchdgerNet(nn.Module):\n",
    "    def __init__(self):\n",
    "        super(SchdgerNet,self).__init__()\n",
    "        self.net = nn.Sequential(\n",
    "            nn.Linear(2,50),\n",
    "            nn.Tanh(),\n",
    "            nn.Linear(50,50),\n",
    "            nn.Tanh(),\n",
    "            nn.Linear(50,50),\n",
    "            nn.Tanh(),\n",
    "            nn.Linear(50,50),\n",
    "            nn.Tanh(),\n",
    "            nn.Linear(50,2)\n",
    "        )\n",
    "\n",
    "    def forward(self, x, t):\n",
    "        x = torch.cat((x,t),1)\n",
    "        x = self.net(x)\n",
    "        return x\n",
    "\n",
    "    # loss function\n",
    "    def MSE(self,ypred,ytrue):\n",
    "        return torch.mean((ypred - ytrue)**2) \n",
    "\n",
    "    # Glorot initialization of weight matrix\n",
    "    def glorot_init_mat(self,shape):\n",
    "        din = shape[0]\n",
    "        dout = shape[1]\n",
    "        var = torch.tensor([2.0/(din+dout)])\n",
    "        std = torch.sqrt(var)\n",
    "        mean = torch.tensor([0.0])\n",
    "        dist = torch.distributions.normal.Normal(mean, std)\n",
    "        return dist.sample(shape)"
   ]
  },
  {
   "cell_type": "code",
   "execution_count": 3,
   "metadata": {},
   "outputs": [],
   "source": [
    "import numpy as np\n",
    "import matplotlib.pyplot as plt\n",
    "import torch\n",
    "from pyDOE import lhs\n",
    "import argparse\n",
    "import scipy.io"
   ]
  },
  {
   "cell_type": "code",
   "execution_count": 4,
   "metadata": {},
   "outputs": [],
   "source": [
    "parser = argparse.ArgumentParser()\n",
    "parser.add_argument(\"--epochs\", help=\"Number of epochs to train neural network for\")\n",
    "\n",
    "\"\"\"data prep\"\"\"\n",
    "\"\"\"\n",
    "DE: u_t+0.5*v_{xx}+g*v=0\n",
    "    v_t-0.5*u_{xx}-g*u=0\n",
    "g = \\sqrt{u^2+v^2}\n",
    "\"\"\"\n",
    "args = parser.parse_args(['--epochs','1000'])"
   ]
  },
  {
   "cell_type": "code",
   "execution_count": 5,
   "metadata": {},
   "outputs": [],
   "source": [
    "data = scipy.io.loadmat('Data/NLS.mat')\n",
    "    \n",
    "t = data['tt'].flatten()[:,None]\n",
    "x = data['x'].flatten()[:,None]\n",
    "Exact = data['uu']\n",
    "Exact_u = np.real(Exact)\n",
    "Exact_v = np.imag(Exact)\n",
    "Exact_h = np.sqrt(Exact_u**2 + Exact_v**2)"
   ]
  },
  {
   "cell_type": "code",
   "execution_count": 6,
   "metadata": {},
   "outputs": [],
   "source": [
    "N0,N_b,N_f = 50,50,1000\n",
    "# Doman bounds\n",
    "lb = np.array([-5.0, 0.0])\n",
    "ub = np.array([5.0, np.pi/2])\n",
    "# Generate samples for x, t\n",
    "#sample points\n",
    "idx_x = np.random.choice(x.shape[0], N0, replace=False)\n",
    "x0 = x[idx_x,:]\n",
    "    \n",
    "idx_t = np.random.choice(t.shape[0], N_b, replace=False)\n",
    "tb = t[idx_t,:]\n",
    "\n",
    "idx_star = 0\n",
    "t_star = t[idx_star,:]+0*x\n",
    "#t_star = 0.79+0*x\n",
    "h_star = Exact_h[:,idx_star]  \n",
    "\n",
    "X_f = lb + (ub-lb)*lhs(2, N_f)"
   ]
  },
  {
   "cell_type": "code",
   "execution_count": 7,
   "metadata": {},
   "outputs": [],
   "source": [
    "# %%\n",
    "# Generate samples for x, t, u [boundary initial conditions]\n",
    "X0 = np.concatenate((x0, 0*x0), 1) # (x0, 0)\n",
    "X_lb = np.concatenate((0*tb + lb[0], tb), 1) # (lb[0], tb)\n",
    "X_ub = np.concatenate((0*tb + ub[0], tb), 1) # (ub[0], tb)"
   ]
  },
  {
   "cell_type": "code",
   "execution_count": 8,
   "metadata": {},
   "outputs": [],
   "source": [
    "\n",
    "\"\"\"NN class, init, loss functions, dataloader\"\"\"\n",
    "\n",
    "# %%\n",
    "\"\"\"training process\"\"\"\n",
    "\n",
    "# %%\n",
    "#load u v\n",
    "Exact_u = torch.tensor(Exact_u).type(torch.FloatTensor)\n",
    "Exact_v = torch.tensor(Exact_v).type(torch.FloatTensor)\n",
    "Exact_h = torch.tensor(Exact_h).type(torch.FloatTensor)\n",
    "#load initial condition data\n",
    "u0 = Exact_u[idx_x,0:1]\n",
    "v0 = Exact_v[idx_x,0:1]\n",
    "UV0 = torch.cat((u0,v0),1)\n",
    "# load x, t data into torch\n",
    "x0 = x0.reshape((-1, 1))\n",
    "x0 = torch.tensor(x0).type(torch.FloatTensor)\n",
    "tb = tb.reshape((-1, 1))\n",
    "tb = torch.tensor(tb).type(torch.FloatTensor)\n",
    "\n",
    "X0 = torch.tensor(X0).type(torch.FloatTensor)\n",
    "X_lb = torch.tensor(X_lb).type(torch.FloatTensor)\n",
    "X_ub = torch.tensor(X_ub).type(torch.FloatTensor)\n",
    "X_f = torch.tensor(X_f).type(torch.FloatTensor)"
   ]
  },
  {
   "cell_type": "code",
   "execution_count": 9,
   "metadata": {},
   "outputs": [
    {
     "data": {
      "text/plain": [
       "tensor([0., 0.])"
      ]
     },
     "execution_count": 9,
     "metadata": {},
     "output_type": "execute_result"
    }
   ],
   "source": [
    "# %%\n",
    "#Instantiate class\n",
    "pn = SchdgerNet()\n",
    "\n",
    "#Initialize weights\n",
    "#Glorot initialization\n",
    "[W, b] = list(pn.net[0].parameters())\n",
    "W = pn.glorot_init_mat(W.shape)\n",
    "b.data.fill_(0)\n",
    "\n",
    "[W, b] = list(pn.net[2].parameters())\n",
    "W = pn.glorot_init_mat(W.shape)\n",
    "b.data.fill_(0)\n",
    "\n",
    "[W, b] = list(pn.net[4].parameters())\n",
    "W = pn.glorot_init_mat(W.shape)\n",
    "b.data.fill_(0)\n",
    "\n",
    "[W, b] = list(pn.net[6].parameters())\n",
    "W = pn.glorot_init_mat(W.shape)\n",
    "b.data.fill_(0)\n",
    "\n",
    "[W, b] = list(pn.net[8].parameters())\n",
    "W = pn.glorot_init_mat(W.shape)\n",
    "b.data.fill_(0)"
   ]
  },
  {
   "cell_type": "code",
   "execution_count": 10,
   "metadata": {},
   "outputs": [],
   "source": [
    "# %%\n",
    "# Perform backprop\n",
    "MAX_EPOCHS = int(args.epochs)\n",
    "LRATE = 3e-4\n",
    "\n",
    "#Use Adam for training\n",
    "optimizer = torch.optim.Adam(pn.parameters(), lr=LRATE)\n",
    "\n",
    "loss_history_bc = []\n",
    "loss_history_ic = []\n",
    "loss_history_f = []\n",
    "loss_history = []"
   ]
  },
  {
   "cell_type": "code",
   "execution_count": 11,
   "metadata": {},
   "outputs": [
    {
     "name": "stdout",
     "output_type": "stream",
     "text": [
      "Epoch: 1000, MSE_ic: 0.0115, MSE_bc: 0.0004, MSE_f: 0.0142, MSE: 0.0261\n"
     ]
    }
   ],
   "source": [
    "import time\n",
    "start_time = time.time()\n",
    "for epoch in range(MAX_EPOCHS):\n",
    "    xc = x0.clone()\n",
    "    tc = tb.clone()\n",
    "    #full batch\n",
    "\n",
    "    #initial condition\n",
    "    UV0_pred = pn(xc,0*xc)\n",
    "    mse_ic = pn.MSE(UV0_pred, UV0)\n",
    "    loss_history_ic.append([epoch, mse_ic])\n",
    "    \n",
    "    #boundary condition\n",
    "    x_lbc = X_lb[:,0:1].clone()\n",
    "    x_lbc.requires_grad = True\n",
    "    x_ubc = X_ub[:,0:1].clone()\n",
    "    x_ubc.requires_grad = True\n",
    "    UVub_pred = pn(x_ubc,tc)\n",
    "    UVub_pred1 = torch.autograd.grad(UVub_pred.sum(),x_ubc,create_graph=True)[0]\n",
    "    UVlb_pred = pn(x_lbc,tc)\n",
    "    UVlb_pred1 = torch.autograd.grad(UVlb_pred.sum(),x_lbc,create_graph=True)[0]\n",
    "    mse_bc = pn.MSE(UVub_pred, UVlb_pred)\n",
    "    mse_bc += pn.MSE(UVub_pred1, UVlb_pred1)\n",
    "    loss_history_bc.append([epoch, mse_bc])\n",
    "\n",
    "    #f\n",
    "    x_f = X_f[:,0:1].clone()\n",
    "    x_f.requires_grad = True\n",
    "    t_f = X_f[:,1:2].clone()\n",
    "    t_f.requires_grad = True\n",
    "    UV = pn(x_f,t_f)\n",
    "    U = UV[:,0:1]\n",
    "    V = UV[:,1:2]\n",
    "    Ut = torch.autograd.grad(U.sum(),t_f,create_graph=True)[0]\n",
    "    Ux = torch.autograd.grad(U.sum(),x_f,create_graph=True)[0]\n",
    "    Uxx = torch.autograd.grad(Ux.sum(),x_f,create_graph=True)[0]\n",
    "    Vt = torch.autograd.grad(V.sum(),t_f,create_graph=True)[0]\n",
    "    Vx = torch.autograd.grad(V.sum(),x_f,create_graph=True)[0]\n",
    "    Vxx = torch.autograd.grad(Vx.sum(),x_f,create_graph=True)[0]\n",
    "    D = U**2+V**2\n",
    "    F1 = Ut+0.5*Vxx+ D*V\n",
    "    F2 = Vt-0.5*Uxx-D*U\n",
    "    F = torch.cat((F1,F2),1)\n",
    "    mse_f = pn.MSE(F, torch.zeros(F.shape)) #rescale f before computing loss\n",
    "    loss_history_f.append([epoch, mse_f])\n",
    "\n",
    "    loss = mse_ic + mse_bc + mse_f\n",
    "    loss_history.append([epoch, loss])\n",
    "\n",
    "    #optimizer step\n",
    "    optimizer.zero_grad()\n",
    "    loss.backward()\n",
    "    optimizer.step()\n",
    "\n",
    "    if (epoch+1) % 1000 == 0:\n",
    "        print(\"Epoch: {}, MSE_ic: {:.4f}, MSE_bc: {:.4f}, MSE_f: {:.4f}, MSE: {:.4f}\".format((epoch+1), mse_ic, mse_bc, mse_f, loss))\n",
    "elapsed = time.time() - start_time"
   ]
  },
  {
   "cell_type": "code",
   "execution_count": 25,
   "metadata": {},
   "outputs": [
    {
     "data": {
      "text/plain": [
       "45.05774760246277"
      ]
     },
     "execution_count": 25,
     "metadata": {},
     "output_type": "execute_result"
    }
   ],
   "source": [
    "elapsed"
   ]
  },
  {
   "cell_type": "code",
   "execution_count": 26,
   "metadata": {},
   "outputs": [],
   "source": [
    "#%%\n",
    "#save trained model\n",
    "fname = \"SchdgerNet_{}.pt\".format(N_f)\n",
    "torch.save(pn, fname)"
   ]
  },
  {
   "cell_type": "code",
   "execution_count": 27,
   "metadata": {
    "collapsed": true
   },
   "outputs": [
    {
     "data": {
      "image/png": "[encoded data removed]",
      "text/plain": [
       "<Figure size 900x600 with 1 Axes>"
      ]
     },
     "metadata": {
      "needs_background": "light"
     },
     "output_type": "display_data"
    }
   ],
   "source": [
    "#%%\n",
    "loss_history = np.array(loss_history)\n",
    "plt.figure(dpi=150)\n",
    "plt.plot(loss_history[:,0], loss_history[:,1])\n",
    "plt.savefig(\"SchdgerNet_loss_hist_{}.png\".format(N_f))\n",
    "#plt.show()"
   ]
  },
  {
   "cell_type": "code",
   "execution_count": 28,
   "metadata": {},
   "outputs": [
    {
     "data": {
      "image/png": "[encoded data removed]",
      "text/plain": [
       "<Figure size 900x600 with 1 Axes>"
      ]
     },
     "metadata": {
      "needs_background": "light"
     },
     "output_type": "display_data"
    }
   ],
   "source": [
    "#%%\n",
    "plt.figure(dpi=150)\n",
    "x = torch.tensor(x).type(torch.FloatTensor)\n",
    "t_star = torch.tensor(t_star).type(torch.FloatTensor)\n",
    "UV_pred = pn(x,t_star)\n",
    "u_pred = UV_pred[:,0:1]\n",
    "v_pred = UV_pred[:,1:2]\n",
    "h_pred = (u_pred**2+v_pred**2).sqrt()\n",
    "plt.scatter(x.data.numpy(), h_pred.data.numpy(), label=\"Neural network solution\")\n",
    "plt.scatter(x.data.numpy(), h_star, label=\"True solution\")\n",
    "plt.legend()\n",
    "#plt.savefig(\"PINN_soln_comp_{}.png\".format(N_f))\n",
    "#plt.show()"
   ]
  }
 ],
 "metadata": {
  "kernelspec": {
   "display_name": "Python 3",
   "language": "python",
   "name": "python3"
  },
  "language_info": {
   "codemirror_mode": {
    "name": "ipython",
    "version": 3
   },
   "file_extension": ".py",
   "mimetype": "text/x-python",
   "name": "python",
   "nbconvert_exporter": "python",
   "pygments_lexer": "ipython3",
   "version": "3.8.5"
  }
 },
 "nbformat": 4,
 "nbformat_minor": 4
}
